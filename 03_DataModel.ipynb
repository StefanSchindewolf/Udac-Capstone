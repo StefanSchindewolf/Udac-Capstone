{
 "cells": [
  {
   "cell_type": "markdown",
   "metadata": {
    "editable": true
   },
   "source": [
    "# Immigration Data ETL\n",
    "### Data Engineering Capstone Project\n",
    "\n",
    "#### Project Summary\n",
    "--describe your project at a high level--\n",
    "\n",
    "The project follows the follow steps:\n",
    "* Step 1: Scope the Project and Gather Data\n",
    "* Step 2: Explore and Assess the Data\n",
    "* Step 3: Define the Data Model\n",
    "* Step 4: Run ETL to Model the Data\n",
    "* Step 5: Complete Project Write Up"
   ]
  },
  {
   "cell_type": "markdown",
   "metadata": {
    "editable": true
   },
   "source": [
    "## Step 3: Data model"
   ]
  },
  {
   "cell_type": "markdown",
   "metadata": {
    "editable": true
   },
   "source": [
    "### Step 3: Define the Data Model\n",
    "\n",
    "Flyby Salad wants to analyze individual travellers data on a large scale. Analysis dimensions are \"time\", \"traveller status\", \"arrival location demographics\" and \"airport data\".\n",
    "\n",
    "In Step 2 we identified already ways to link the airport and demographic datasets with the immigration facts table.\n",
    "\n",
    "In this section you will see the final data model with all columns selected.\n",
    "\n",
    "#### 3.1 Conceptual Data Model\n",
    "The data model consists of the following fact and dimension tables.\n",
    "\n",
    "**Fact Table**\n",
    "The immigration fact table will be named \"immigration_facts\" and consist of the following columns:\n",
    "* cicid - Individual fact identifier for an i94 record (one for each individual being processed), Primary Key\n",
    "* status - The status of immigration, FK for status dimension table\n",
    "* adm_number - the admission number\n",
    "* state - Code of U.S. state, FK to dimension table containing demographic data\n",
    "* arrival_dt - Date of arrival, FK to time dimension table\n",
    "* departure_dt - Date of departure, FK to time dimension table\n",
    "* transport_mode - Mode of transportation (1 = Air; 2 = Sea; 3 = Land; 9 = Not reported\n",
    "* airport - IATA code of airport, FK for airport dimension table\n",
    "* airline - Airline the immigrant has arrived with\n",
    "* ftlno - Flight number\n",
    "* visatype - Visa codes with three categories: (1 = Business; 2 = Pleasure; 3 = Student)\n",
    "* age - Immigrant's age\n",
    "* gender - Immigrant' gender\n",
    "* res_country - Country code of immigrants residence\n",
    "* cit_country - Country code of immigrants citizenship\n",
    "* occup - immigrants occupation\n",
    "\n",
    "\n",
    "The remaining 13 columns will be dropped.\n",
    "\n",
    "**Dimension Table \"dim_time\"**\n",
    "The time dimension table has the following columns:\n",
    "* datestamp - ISO date string\n",
    "* day_of_week - The date strings day of the week\n",
    "* week - Calendar week number\n",
    "* month - Month number\n",
    "* year - Year number\n",
    "\n",
    "\n",
    "**Dimension Table \"dim_airports\"**\n",
    "The airports dimension tables contains the following data:\n",
    "* iata_code - Individual airport code, Primary key\n",
    "* name - Airport name\n",
    "* municipality - City name of the airport\n",
    "* iso_region - Code according to ISO code table\n",
    "* iso_country - Country code\n",
    "* latitude / longitude - Airport coordinates\n",
    "\n",
    "**Dimension Table \"dim_status\"**\n",
    "Status table columns:\n",
    "* status_id - Short code of the immigration status\n",
    "* arrived - Admitted or paroled into the U.S.\n",
    "* departed - Departed, lost I-94 or is deceased\n",
    "* updated - Either apprehended, overstayed, adjusted to perm residence\n",
    "* matched - Match of arrival and departure records\n",
    "\n",
    "**Dimension Table \"dim_demographics\"**\n",
    "Demographics dimension table will be aggregated to the U.S. state level since no city codes exist to reliably link it to immigration data.\n",
    "Columns will be the following:\n",
    "* state_code - U.S. state code\n",
    "* median_age - Median age of population\n",
    "* male_population - Amount of male population\n",
    "* female_population - Amount of female population\n",
    "* total_population - Total amount of population\n",
    "* number_of_veterans - Total amount of veterans within population\n",
    "* foreign_born - Total amount of population not being born in current city/state\n",
    "* average_household_size - Average number of persons in a household\n",
    "\n",
    "**Data Model Diagram**\n",
    "\n",
    "![](FlybySalad_DataModel.png)"
   ]
  },
  {
   "cell_type": "markdown",
   "metadata": {
    "editable": true
   },
   "source": [
    "#### 3.2 Mapping Out Data Pipelines\n",
    "List the steps necessary to pipeline the data into the chosen data model"
   ]
  },
  {
   "cell_type": "markdown",
   "metadata": {
    "editable": true
   },
   "source": [
    "| Id | Step | Description |\n",
    "|----|------|-------------|\n",
    "| 01 | Import staging dataframes | Import immigration data, demographics data and airport information into dataframe \"imm_df\", \"dem_df\" and \"air_df\" |\n",
    "| 02 | Reduce to required columns | Per dataframe exclude unused columns\n",
    "| 03 | Change data types | On existing columns change data types for numbers and dates |\n",
    "| 04 | Fill fact table | |\n",
    "| 05 | Fill dimension tables | |\n",
    "| 06 | Export to Parquet | |\n",
    "| 07 | Import to Redshift | |\n",
    "\n",
    "**Diagram of created DAG Pipeline in Airflow**\n"
   ]
  },
  {
   "cell_type": "code",
   "execution_count": null,
   "metadata": {
    "editable": true
   },
   "outputs": [],
   "source": []
  }
 ],
 "metadata": {
  "kernelspec": {
   "display_name": "Python 3",
   "language": "python",
   "name": "python3"
  },
  "language_info": {
   "codemirror_mode": {
    "name": "ipython",
    "version": 3
   },
   "file_extension": ".py",
   "mimetype": "text/x-python",
   "name": "python",
   "nbconvert_exporter": "python",
   "pygments_lexer": "ipython3",
   "version": "3.6.3"
  }
 },
 "nbformat": 4,
 "nbformat_minor": 4
}
