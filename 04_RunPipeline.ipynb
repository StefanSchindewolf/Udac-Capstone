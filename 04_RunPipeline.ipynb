{
 "cells": [
  {
   "cell_type": "markdown",
   "metadata": {
    "editable": true
   },
   "source": [
    "# Immigration Data ETL\n",
    "### Data Engineering Capstone Project\n",
    "\n",
    "#### Project Summary\n",
    "--describe your project at a high level--\n",
    "\n",
    "The project follows the follow steps:\n",
    "* Step 1: Scope the Project and Gather Data\n",
    "* Step 2: Explore and Assess the Data\n",
    "* Step 3: Define the Data Model\n",
    "* **Step 4: Run ETL to Model the Data**\n",
    "* Step 5: Complete Project Write Up"
   ]
  },
  {
   "cell_type": "markdown",
   "metadata": {
    "editable": true
   },
   "source": [
    "### Step 4: Run Pipelines to Model the Data \n",
    "#### 4.1 Create the data model\n",
    "\n",
    "In Step 2 of this project the data model was created using Jupyter Notebooks and applying Apache Spark for scalable processing.\n",
    "\n",
    "In Step 4 we created a fully working ETL script included in this workspace:\n",
    "\n",
    "    Name of ETL Script:    etl.py\n",
    "\n",
    "The script \"etl.py\" will (1) download the data from the workspace, (2) Run transformations on the data and (3) write it back into the workspace using Parquet format.\n",
    "\n",
    "Options:\n",
    "* **Sampling:** Run \"etl.py --sample-size 0.01\" with a 1% sample of the complete immmigration data\n",
    "    * You can choose other values and adjust the sample size\n",
    "* **S3-Storing:** Run \"etl.py --s3-store\" and the sci\n",
    "    * Enter an S3 bucket link and AWS credentials in \"dl.cfg\" and \"etl.py\" will store the data in the bucket\n",
    "* **Loading:** \n",
    "\n",
    "Config file:\n",
    "* Name \"dl.cfg\"\n",
    "* Is set to workspace locations as default\n",
    "* You may adjust the settings e.g. for storing data on S3\n",
    "\n",
    "Script location: \"etl.py\" (in this workspace root)"
   ]
  },
  {
   "cell_type": "markdown",
   "metadata": {
    "editable": true
   },
   "source": [
    "#### 4.2 Data Quality Checks\n",
    "Explain the data quality checks you'll perform to ensure the pipeline ran as expected. These could include:\n",
    " * Integrity constraints on the relational database (e.g., unique key, data type, etc.)\n",
    " * Unit tests for the scripts to ensure they are doing the right thing\n",
    " * Source/Count checks to ensure completeness\n",
    " \n",
    "Run Quality Checks"
   ]
  },
  {
   "cell_type": "markdown",
   "metadata": {
    "editable": true
   },
   "source": [
    "I implemented 2 data quality checks: `data_quality_check_01` and `data_quality_check_02`\n",
    "\n",
    "Running `data_quality_check_01` will first count lines in the dataframes before and after the data transformation. Then it will compare the number of duplicate entries before and after the transformation. For key columns both countings should result in the same numbers.\n",
    "\n",
    "Running `data_quality_check_02` will try to join a given fact table with a dimension table. The function will then indicate how many lines the dimension table cannot match. This indicates where dimension entries could be added so that we have more matches with the fact table.\n",
    "\n",
    "    This check was introduced when it was discovered that the immigration data contains other airport codes than the airport table (e.g. \"NYC\" for New York City which is not a valid IATA Code).\n",
    "    The script \"etl.py\" runs the check for this problem, but could be reused on other tables as well."
   ]
  },
  {
   "cell_type": "markdown",
   "metadata": {
    "editable": true
   },
   "source": [
    "#### 4.3 Data dictionary \n",
    "Create a data dictionary for your data model. For each field, provide a brief description of what the data is and where it came from. You can include the data dictionary in the notebook or in a separate file."
   ]
  },
  {
   "cell_type": "markdown",
   "metadata": {
    "editable": true
   },
   "source": [
    "##### Immigration facts\n",
    "    'cicid' - unique entry id\n",
    "    'status' - status code, a foreign key for table \"dim_status\"\n",
    "    'adm_number' - admission number, converted from string to bigint\n",
    "    'transport_mode' - Mode of transportation\n",
    "    'airport' - Airport short code e.g. for an airline traveller his/her arrival airport in the US, string value\n",
    "    'state' - Short code of the airport's location state, string value derived from i94addr\n",
    "    'arrival_dt' - from arrdate, converted from SAS date to ISO date\n",
    "    'departure_dt' - from depdate, converted from SAS date to ISO date\n",
    "    'airline' - from airline in source, string colum\n",
    "    'fltno' - from fltno in source, string column\n",
    "    'visatype' - is the i94visa column, string column (Note: the column \"visatype\" in i94 data is not used)\n",
    "    'age' - renamed i94bir column, int value\n",
    "    'gender' - from gender column, string value\n",
    "    'res_country' - derived from i94res, country codes of residence\n",
    "    'cit_country' - derived from i94cit, country codes of citizenship\n",
    "    'occup' - immigrant's occupation that he/she performs in the US, no transformation, string value\n",
    "    "
   ]
  },
  {
   "cell_type": "markdown",
   "metadata": {
    "editable": true
   },
   "source": [
    "##### Airport dimension\n",
    "    'iata_code' - The airports international aviation code\n",
    "    'name' - Official airport name\n",
    "    'municipality' - City where the airport is located\n",
    "    'iso_region' - International region code\n",
    "    'iso_country' - International country code\n",
    "    'latitude' - airport geolocation\n",
    "    'longitude' - airport geolocation"
   ]
  },
  {
   "cell_type": "markdown",
   "metadata": {
    "editable": true
   },
   "source": [
    "##### Time dimension\n",
    "    'datestamp' - contains all unique values from columns arrdate and depdate, but transformed into an ISO formatted date\n",
    "    'day_of_month' - number of the date's day within that month\n",
    "    'day_of_year' - number of the date's day within the year\n",
    "    'week' - calendar week number\n",
    "    'month' - number of month\n",
    "    'year' - year"
   ]
  },
  {
   "cell_type": "markdown",
   "metadata": {
    "editable": true
   },
   "source": [
    "##### Status dimension\n",
    "    'status_flag_id' - Individual key for each combination of flags\n",
    "    'entdepa' - Arrival Flag\n",
    "    'entdepd' - Departure Flag\n",
    "    'entdepu' - Update Flag\n",
    "    'matflag' - Match flag, indicates matching arrivals and departures"
   ]
  }
 ],
 "metadata": {
  "kernelspec": {
   "display_name": "Python 3",
   "language": "python",
   "name": "python3"
  },
  "language_info": {
   "codemirror_mode": {
    "name": "ipython",
    "version": 3
   },
   "file_extension": ".py",
   "mimetype": "text/x-python",
   "name": "python",
   "nbconvert_exporter": "python",
   "pygments_lexer": "ipython3",
   "version": "3.6.3"
  }
 },
 "nbformat": 4,
 "nbformat_minor": 4
}
